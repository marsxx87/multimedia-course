{
  "nbformat": 4,
  "nbformat_minor": 0,
  "metadata": {
    "colab": {
      "name": "多媒體作業hw10",
      "provenance": [],
      "collapsed_sections": []
    },
    "kernelspec": {
      "display_name": "Python 3",
      "name": "python3"
    }
  },
  "cells": [
    {
      "cell_type": "markdown",
      "metadata": {
        "id": "urw-wvXD_FkZ"
      },
      "source": [
        "#專案下載"
      ]
    },
    {
      "cell_type": "code",
      "metadata": {
        "id": "a790Lait_KaK",
        "colab": {
          "base_uri": "https://localhost:8080/"
        },
        "outputId": "ec7bd612-9101-47ad-fd44-fc8a5cc2c214"
      },
      "source": [
        "#掛載自己的google雲端硬碟\n",
        "from google.colab import drive\n",
        "drive.mount('/content/drive')"
      ],
      "execution_count": null,
      "outputs": [
        {
          "output_type": "stream",
          "text": [
            "Mounted at /content/drive\n"
          ],
          "name": "stdout"
        }
      ]
    },
    {
      "cell_type": "code",
      "metadata": {
        "id": "SUWlzZqyAAlj"
      },
      "source": [
        "!cp -r /content/drive/MyDrive/多媒體hw10 /content"
      ],
      "execution_count": 18,
      "outputs": []
    },
    {
      "cell_type": "code",
      "metadata": {
        "id": "8KNKvo17AX_r",
        "colab": {
          "base_uri": "https://localhost:8080/"
        },
        "outputId": "af2f0aed-7b0e-4e57-dd2d-2d8c9b1e41e2"
      },
      "source": [
        "%cd /content/SocialGAN/"
      ],
      "execution_count": 19,
      "outputs": [
        {
          "output_type": "stream",
          "text": [
            "/content/SocialGAN\n"
          ],
          "name": "stdout"
        }
      ]
    },
    {
      "cell_type": "markdown",
      "metadata": {
        "id": "-kNGM3BmB4Ji"
      },
      "source": [
        "#訓練模型"
      ]
    },
    {
      "cell_type": "code",
      "metadata": {
        "id": "REOi40pjB6i9",
        "colab": {
          "base_uri": "https://localhost:8080/"
        },
        "outputId": "525d02bf-a55e-4030-f678-7d9d70e60969"
      },
      "source": [
        "!python train.py"
      ],
      "execution_count": 20,
      "outputs": [
        {
          "output_type": "stream",
          "text": [
            "Traceback (most recent call last):\n",
            "  File \"train.py\", line 22, in <module>\n",
            "    from sgan.models import TrajectoryGenerator, TrajectoryDiscriminator\n",
            "  File \"/content/SocialGAN/sgan/models.py\", line 5, in <module>\n",
            "    from sgan.directionmod import DirectionModule, obs_to_direction\n",
            "  File \"/content/SocialGAN/sgan/directionmod.py\", line 6, in <module>\n",
            "    from attrdict import AttrDict\n",
            "ModuleNotFoundError: No module named 'attrdict'\n"
          ],
          "name": "stdout"
        }
      ]
    },
    {
      "cell_type": "markdown",
      "metadata": {
        "id": "GaEwscpjCAFr"
      },
      "source": [
        "#模型驗證"
      ]
    },
    {
      "cell_type": "code",
      "metadata": {
        "id": "oR3058ZoCCZD"
      },
      "source": [
        "!python evaluate_model.py --model_path"
      ],
      "execution_count": null,
      "outputs": []
    }
  ]
}