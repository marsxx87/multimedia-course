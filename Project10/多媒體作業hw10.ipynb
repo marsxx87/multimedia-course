{
  "nbformat": 4,
  "nbformat_minor": 0,
  "metadata": {
    "colab": {
      "name": "多媒體作業hw10",
      "provenance": [],
      "collapsed_sections": []
    },
    "kernelspec": {
      "display_name": "Python 3",
      "name": "python3"
    }
  },
  "cells": [
    {
      "cell_type": "markdown",
      "metadata": {
        "id": "urw-wvXD_FkZ"
      },
      "source": [
        "#專案下載"
      ]
    },
    {
      "cell_type": "code",
      "metadata": {
        "id": "a790Lait_KaK",
        "colab": {
          "base_uri": "https://localhost:8080/"
        },
        "outputId": "61baf45d-b447-4a64-a87f-85df1fa4c317"
      },
      "source": [
        "#掛載自己的google雲端硬碟\n",
        "from google.colab import drive\n",
        "drive.mount('/content/drive')"
      ],
      "execution_count": null,
      "outputs": [
        {
          "output_type": "stream",
          "text": [
            "Mounted at /content/drive\n"
          ],
          "name": "stdout"
        }
      ]
    },
    {
      "cell_type": "code",
      "metadata": {
        "id": "SUWlzZqyAAlj"
      },
      "source": [
        "!cp -r /content/drive/MyDrive/多媒體hw10 /content"
      ],
      "execution_count": null,
      "outputs": []
    },
    {
      "cell_type": "code",
      "metadata": {
        "id": "8KNKvo17AX_r",
        "colab": {
          "base_uri": "https://localhost:8080/"
        },
        "outputId": "d694da02-6a5e-4326-90a3-6e8e86a2cb3b"
      },
      "source": [
        "%cd /content/SocialGAN"
      ],
      "execution_count": null,
      "outputs": [
        {
          "output_type": "stream",
          "text": [
            "[Errno 2] No such file or directory: '/content/SocialGAN'\n",
            "/content\n"
          ],
          "name": "stdout"
        }
      ]
    },
    {
      "cell_type": "markdown",
      "metadata": {
        "id": "-kNGM3BmB4Ji"
      },
      "source": [
        "#訓練模型"
      ]
    },
    {
      "cell_type": "code",
      "metadata": {
        "id": "REOi40pjB6i9"
      },
      "source": [
        "!python train.py"
      ],
      "execution_count": null,
      "outputs": []
    },
    {
      "cell_type": "markdown",
      "metadata": {
        "id": "GaEwscpjCAFr"
      },
      "source": [
        "#模型驗證"
      ]
    },
    {
      "cell_type": "code",
      "metadata": {
        "id": "oR3058ZoCCZD"
      },
      "source": [
        "!python evaluate_model.py --model_path"
      ],
      "execution_count": null,
      "outputs": []
    }
  ]
}